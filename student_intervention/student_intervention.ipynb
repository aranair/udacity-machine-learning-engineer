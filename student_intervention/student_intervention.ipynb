{
 "cells": [
  {
   "cell_type": "markdown",
   "metadata": {},
   "source": [
    "# Machine Learning Engineer Nanodegree\n",
    "## Supervised Learning\n",
    "## Project 2: Building a Student Intervention System"
   ]
  },
  {
   "cell_type": "markdown",
   "metadata": {},
   "source": [
    "Welcome to the second project of the Machine Learning Engineer Nanodegree! In this notebook, some template code has already been provided for you, and it will be your job to implement the additional functionality necessary to successfully complete this project. Sections that begin with **'Implementation'** in the header indicate that the following block of code will require additional functionality which you must provide. Instructions will be provided for each section and the specifics of the implementation are marked in the code block with a `'TODO'` statement. Please be sure to read the instructions carefully!\n",
    "\n",
    "In addition to implementing code, there will be questions that you must answer which relate to the project and your implementation. Each section where you will answer a question is preceded by a **'Question X'** header. Carefully read each question and provide thorough answers in the following text boxes that begin with **'Answer:'**. Your project submission will be evaluated based on your answers to each of the questions and the implementation you provide.  \n",
    "\n",
    ">**Note:** Code and Markdown cells can be executed using the **Shift + Enter** keyboard shortcut. In addition, Markdown cells can be edited by typically double-clicking the cell to enter edit mode."
   ]
  },
  {
   "cell_type": "markdown",
   "metadata": {},
   "source": [
    "### Question 1 - Classification vs. Regression\n",
    "*Your goal for this project is to identify students who might need early intervention before they fail to graduate. Which type of supervised learning problem is this, classification or regression? Why?*"
   ]
  },
  {
   "cell_type": "markdown",
   "metadata": {},
   "source": [
    "**Answer: ** It is a classification problem because the output of the algorithmn, given students as data points, should be binary: whether the student may successfully graduate or not and consequently whether he or she needs or do not need early intervention."
   ]
  },
  {
   "cell_type": "markdown",
   "metadata": {},
   "source": [
    "## Exploring the Data\n",
    "Run the code cell below to load necessary Python libraries and load the student data. Note that the last column from this dataset, `'passed'`, will be our target label (whether the student graduated or didn't graduate). All other columns are features about each student."
   ]
  },
  {
   "cell_type": "code",
   "execution_count": 3,
   "metadata": {
    "collapsed": false
   },
   "outputs": [
    {
     "name": "stdout",
     "output_type": "stream",
     "text": [
      "Student data read successfully!\n"
     ]
    }
   ],
   "source": [
    "# Import libraries\n",
    "import numpy as np\n",
    "import pandas as pd\n",
    "from time import time\n",
    "from sklearn.metrics import f1_score\n",
    "\n",
    "# Read student data\n",
    "student_data = pd.read_csv(\"student-data.csv\")\n",
    "print \"Student data read successfully!\""
   ]
  },
  {
   "cell_type": "markdown",
   "metadata": {},
   "source": [
    "### Implementation: Data Exploration\n",
    "Let's begin by investigating the dataset to determine how many students we have information on, and learn about the graduation rate among these students. In the code cell below, you will need to compute the following:\n",
    "- The total number of students, `n_students`.\n",
    "- The total number of features for each student, `n_features`.\n",
    "- The number of those students who passed, `n_passed`.\n",
    "- The number of those students who failed, `n_failed`.\n",
    "- The graduation rate of the class, `grad_rate`, in percent (%).\n"
   ]
  },
  {
   "cell_type": "code",
   "execution_count": 4,
   "metadata": {
    "collapsed": false
   },
   "outputs": [
    {
     "name": "stdout",
     "output_type": "stream",
     "text": [
      "Total number of students: 395\n",
      "Number of features: 30\n",
      "Number of students who passed: 265\n",
      "Number of students who failed: 130\n",
      "Graduation rate of the class: 67.09%\n"
     ]
    }
   ],
   "source": [
    "# TODO: Calculate number of students\n",
    "n_students = student_data.shape[0]\n",
    "\n",
    "# -1 because of target column\n",
    "n_features = student_data.shape[1] - 1\n",
    "\n",
    "# TODO: Calculate passing students\n",
    "n_passed = (student_data[student_data['passed'] == 'yes']).shape[0]\n",
    "\n",
    "# TODO: Calculate failing students\n",
    "n_failed = (student_data[student_data['passed'] == 'no']).shape[0]\n",
    "\n",
    "# TODO: Calculate graduation rate\n",
    "grad_rate = float(n_passed)/n_students*100\n",
    "\n",
    "# Print the results\n",
    "print \"Total number of students: {}\".format(n_students)\n",
    "print \"Number of features: {}\".format(n_features)\n",
    "print \"Number of students who passed: {}\".format(n_passed)\n",
    "print \"Number of students who failed: {}\".format(n_failed)\n",
    "print \"Graduation rate of the class: {:.2f}%\".format(grad_rate)"
   ]
  },
  {
   "cell_type": "markdown",
   "metadata": {},
   "source": [
    "**Characteristics:** The given data set is relatively small, with quite a big number of features. The data set also has **imbalanced data**, with more students passing than failing. Some models do not perform well with this characteristic. \n",
    "\n",
    "In the bottom sections, I've also decided to use a Stratified shuffle split to ensure that both the training set and test set has roughly the same number of pass/fails. Otherwise, there could exist scenarios that end up with all the failing cases in the test and that wouldn't work very well.\n",
    "    "
   ]
  },
  {
   "cell_type": "markdown",
   "metadata": {},
   "source": [
    "## Preparing the Data\n",
    "In this section, we will prepare the data for modeling, training and testing.\n",
    "\n",
    "### Identify feature and target columns\n",
    "It is often the case that the data you obtain contains non-numeric features. This can be a problem, as most machine learning algorithms expect numeric data to perform computations with.\n",
    "\n",
    "Run the code cell below to separate the student data into feature and target columns to see if any features are non-numeric."
   ]
  },
  {
   "cell_type": "code",
   "execution_count": 5,
   "metadata": {
    "collapsed": false
   },
   "outputs": [
    {
     "name": "stdout",
     "output_type": "stream",
     "text": [
      "Feature columns:\n",
      "['school', 'sex', 'age', 'address', 'famsize', 'Pstatus', 'Medu', 'Fedu', 'Mjob', 'Fjob', 'reason', 'guardian', 'traveltime', 'studytime', 'failures', 'schoolsup', 'famsup', 'paid', 'activities', 'nursery', 'higher', 'internet', 'romantic', 'famrel', 'freetime', 'goout', 'Dalc', 'Walc', 'health', 'absences']\n",
      "\n",
      "Target column: passed\n",
      "\n",
      "Feature values:\n",
      "  school sex  age address famsize Pstatus  Medu  Fedu     Mjob      Fjob  \\\n",
      "0     GP   F   18       U     GT3       A     4     4  at_home   teacher   \n",
      "1     GP   F   17       U     GT3       T     1     1  at_home     other   \n",
      "2     GP   F   15       U     LE3       T     1     1  at_home     other   \n",
      "3     GP   F   15       U     GT3       T     4     2   health  services   \n",
      "4     GP   F   16       U     GT3       T     3     3    other     other   \n",
      "\n",
      "    ...    higher internet  romantic  famrel  freetime goout Dalc Walc health  \\\n",
      "0   ...       yes       no        no       4         3     4    1    1      3   \n",
      "1   ...       yes      yes        no       5         3     3    1    1      3   \n",
      "2   ...       yes      yes        no       4         3     2    2    3      3   \n",
      "3   ...       yes      yes       yes       3         2     2    1    1      5   \n",
      "4   ...       yes       no        no       4         3     2    1    2      5   \n",
      "\n",
      "  absences  \n",
      "0        6  \n",
      "1        4  \n",
      "2       10  \n",
      "3        2  \n",
      "4        4  \n",
      "\n",
      "[5 rows x 30 columns]\n"
     ]
    }
   ],
   "source": [
    "# Extract feature columns\n",
    "feature_cols = list(student_data.columns[:-1])\n",
    "\n",
    "# Extract target column 'passed'\n",
    "target_col = student_data.columns[-1] \n",
    "\n",
    "# Show the list of columns\n",
    "print \"Feature columns:\\n{}\".format(feature_cols)\n",
    "print \"\\nTarget column: {}\".format(target_col)\n",
    "\n",
    "# Separate the data into feature data and target data (X_all and y_all, respectively)\n",
    "X_all = student_data[feature_cols]\n",
    "y_all = student_data[target_col]\n",
    "\n",
    "# Show the feature information by printing the first five rows\n",
    "print \"\\nFeature values:\"\n",
    "print X_all.head()\n"
   ]
  },
  {
   "cell_type": "markdown",
   "metadata": {},
   "source": [
    "### Preprocess Feature Columns\n",
    "\n",
    "As you can see, there are several non-numeric columns that need to be converted! Many of them are simply `yes`/`no`, e.g. `internet`. These can be reasonably converted into `1`/`0` (binary) values.\n",
    "\n",
    "Other columns, like `Mjob` and `Fjob`, have more than two values, and are known as _categorical variables_. The recommended way to handle such a column is to create as many columns as possible values (e.g. `Fjob_teacher`, `Fjob_other`, `Fjob_services`, etc.), and assign a `1` to one of them and `0` to all others.\n",
    "\n",
    "These generated columns are sometimes called _dummy variables_, and we will use the [`pandas.get_dummies()`](http://pandas.pydata.org/pandas-docs/stable/generated/pandas.get_dummies.html?highlight=get_dummies#pandas.get_dummies) function to perform this transformation. Run the code cell below to perform the preprocessing routine discussed in this section."
   ]
  },
  {
   "cell_type": "code",
   "execution_count": 6,
   "metadata": {
    "collapsed": false
   },
   "outputs": [
    {
     "name": "stdout",
     "output_type": "stream",
     "text": [
      "Processed feature columns (48 total features):\n",
      "['school_GP', 'school_MS', 'sex_F', 'sex_M', 'age', 'address_R', 'address_U', 'famsize_GT3', 'famsize_LE3', 'Pstatus_A', 'Pstatus_T', 'Medu', 'Fedu', 'Mjob_at_home', 'Mjob_health', 'Mjob_other', 'Mjob_services', 'Mjob_teacher', 'Fjob_at_home', 'Fjob_health', 'Fjob_other', 'Fjob_services', 'Fjob_teacher', 'reason_course', 'reason_home', 'reason_other', 'reason_reputation', 'guardian_father', 'guardian_mother', 'guardian_other', 'traveltime', 'studytime', 'failures', 'schoolsup', 'famsup', 'paid', 'activities', 'nursery', 'higher', 'internet', 'romantic', 'famrel', 'freetime', 'goout', 'Dalc', 'Walc', 'health', 'absences']\n"
     ]
    }
   ],
   "source": [
    "def preprocess_features(X):\n",
    "    ''' Preprocesses the student data and converts non-numeric binary variables into\n",
    "        binary (0/1) variables. Converts categorical variables into dummy variables. '''\n",
    "    \n",
    "    # Initialize new output DataFrame\n",
    "    output = pd.DataFrame(index = X.index)\n",
    "\n",
    "    # Investigate each feature column for the data\n",
    "    for col, col_data in X.iteritems():\n",
    "        \n",
    "        # If data type is non-numeric, replace all yes/no values with 1/0\n",
    "        if col_data.dtype == object:\n",
    "            col_data = col_data.replace(['yes', 'no'], [1, 0])\n",
    "\n",
    "        # If data type is categorical, convert to dummy variables\n",
    "        if col_data.dtype == object:\n",
    "            # Example: 'school' => 'school_GP' and 'school_MS'\n",
    "            col_data = pd.get_dummies(col_data, prefix = col)  \n",
    "        \n",
    "        # Collect the revised columns\n",
    "        output = output.join(col_data)\n",
    "    \n",
    "    return output\n",
    "\n",
    "X_all = preprocess_features(X_all)\n",
    "print \"Processed feature columns ({} total features):\\n{}\".format(len(X_all.columns), list(X_all.columns))\n",
    "\n"
   ]
  },
  {
   "cell_type": "markdown",
   "metadata": {},
   "source": [
    "### Implementation: Training and Testing Data Split\n",
    "So far, we have converted all _categorical_ features into numeric values. For the next step, we split the data (both features and corresponding labels) into training and test sets. In the following code cell below, you will need to implement the following:\n",
    "- Randomly shuffle and split the data (`X_all`, `y_all`) into training and testing subsets.\n",
    "  - Use 300 training points (approximately 75%) and 95 testing points (approximately 25%).\n",
    "  - Set a `random_state` for the function(s) you use, if provided.\n",
    "  - Store the results in `X_train`, `X_test`, `y_train`, and `y_test`."
   ]
  },
  {
   "cell_type": "code",
   "execution_count": 7,
   "metadata": {
    "collapsed": false
   },
   "outputs": [
    {
     "name": "stdout",
     "output_type": "stream",
     "text": [
      "% Pass [train]: 67.0\n",
      "% Pass [test]: 67.3684210526\n",
      "Training set has 300 samples.\n",
      "Testing set has 95 samples.\n"
     ]
    }
   ],
   "source": [
    "from sklearn import cross_validation\n",
    "\n",
    "num_train = 300\n",
    "num_test = X_all.shape[0] - num_train\n",
    "    \n",
    "# TODO: Shuffle and split the dataset into the number of training and testing points above\n",
    "X_train, X_test, y_train, y_test = cross_validation.train_test_split(\n",
    "    X_all, y_all, train_size=num_train, stratify=y_all, random_state = 222)\n",
    "\n",
    "print \"% Pass [train]: {}\".format(len(y_train[y_train == 'yes']) / float(y_train.shape[0]) * 100)\n",
    "print \"% Pass [test]: {}\".format(len(y_test[y_test == 'yes']) / float(y_test.shape[0]) * 100)\n",
    "\n",
    "# Show the results of the split\n",
    "print \"Training set has {} samples.\".format(X_train.shape[0])\n",
    "print \"Testing set has {} samples.\".format(X_test.shape[0])\n",
    "\n"
   ]
  },
  {
   "cell_type": "markdown",
   "metadata": {},
   "source": [
    "## Training and Evaluating Models\n",
    "In this section, you will choose 3 supervised learning models that are appropriate for this problem and available in `scikit-learn`. You will first discuss the reasoning behind choosing these three models by considering what you know about the data and each model's strengths and weaknesses. You will then fit the model to varying sizes of training data (100 data points, 200 data points, and 300 data points) and measure the F<sub>1</sub> score. You will need to produce three tables (one for each model) that shows the training set size, training time, prediction time, F<sub>1</sub> score on the training set, and F<sub>1</sub> score on the testing set."
   ]
  },
  {
   "cell_type": "markdown",
   "metadata": {},
   "source": [
    "### Question 2 - Model Application\n",
    "*List three supervised learning models that are appropriate for this problem. What are the general applications of each model? What are their strengths and weaknesses? Given what you know about the data, why did you choose these models to be applied?*"
   ]
  },
  {
   "cell_type": "markdown",
   "metadata": {},
   "source": [
    "**Answer: ** \n",
    "\n",
    "- Support Vector Machine\n",
    "- Decision Tree Ensemble: Random Forest\n",
    "- Logistic Regression\n",
    "\n",
    "#### SVM\n",
    "\n",
    "- General application: \n",
    "  - A class of learning methods used for both classification and regression. \n",
    "  - Applications include text-mining, facial recognition and image-processing.\n",
    "- Advantages:\n",
    "  - Naturally resistent to over-fitting, as long as the kernel and kernel parameters are tuned well, even in the scenario where the dimensionality of the data is relatively high compared to the number of samples.\n",
    "  - Memory efficient\n",
    "- Disadvantages: \n",
    "  - SVMs are generally slow to train. With the default, general-purpose non-linear SVC implementation libSVM, the time complexity for training is **~O(n^2)**. \n",
    "  - Difficult to do *incremental learning* with a SVM\n",
    "  - Black-boxed and hard to interpret results unlike *plain* decision trees\n",
    "  - Unable to deal with multi-class classifications\n",
    "\n",
    "#### Decision Tree Ensemble: Random Forest\n",
    "\n",
    "- General application: \n",
    "  - An ensemble learning method comprising of multiple decision trees. \n",
    "  - Applications include credit scoring, company strategy selection (risk analysis etc)\n",
    "- Advantages:\n",
    "  - Avoids overfitting issues present with decision trees by averaging deep trees\n",
    "  - Reduces variance by averaging out individual values that may be stuck in local minima\n",
    "  - In the process, also automatically determines which subset of features are important.\n",
    "- Disadvantages: \n",
    "  - Memory usage\n",
    "  - Loss of interpretability over *plain* decision trees\n",
    "  - Most implementations are slow when you have a big number of features: **~O(v\\*nlogn)** \n",
    "  - Bad at generalizing when there is completely *new* data in the features\n",
    "\n",
    "#### Logistic Regression\n",
    "\n",
    "- General application: \n",
    "  - A special case of generalized linear model that is primarily only used for classification (despite the name)\n",
    "  - Widely used in medical sciences to predict mortality for injured patients, risk of strokes etc. \n",
    "  - In general also used to find the probablity of X given multiple features/variables as in multivariate logistic regressions.\n",
    "- Advantages:\n",
    "  - A well-behaved classification model that is good to start with to use as a baseline\n",
    "  - Simple yet don't need to worry about feature correlation (vs Naive Bayes)\n",
    "  - Able to output a probabilistic interpretation\n",
    "  - Able to do incremental learning \n",
    "- Disadvantages: \n",
    "  - Requires higher number of data points to achieve a stable result.\n",
    "\n",
    "#### Choice\n",
    "\n",
    "The number of training data sample is relativey few whereas the dimensionality of the data is rather high. That is the reason I chose SVM as the first model as SVMs generally performs well even in high-dimensionality. Computationally, it is on the high side at **~O(n^2)** but it remains to be seen how much higher it is compared to the other models.\n",
    "\n",
    "The second model I chose is an ensemble of decision trees: Random Forest. Decision trees in general do not have the constraint of needing linearly separable datapoints and are (generally) fast but tends to overfit. Random forest ensemble method helps with the overfitting issue and generally does well in alot of data sets so I felt that it should be evaluated to see how well it would perform in this case.\n",
    "\n",
    "Lastly, I wanted to also include a simpler model: the logistic regression because of the limitations in resources. It somewhat belongs to a different *type* of algorithm compared to the other two in the sense that it is just a statistical regression model. It is simple to visualize, efficient and provides a pretty good baseline to compare other algorithms with."
   ]
  },
  {
   "cell_type": "markdown",
   "metadata": {},
   "source": [
    "### Setup\n",
    "Run the code cell below to initialize three helper functions which you can use for training and testing the three supervised learning models you've chosen above. The functions are as follows:\n",
    "- `train_classifier` - takes as input a classifier and training data and fits the classifier to the data.\n",
    "- `predict_labels` - takes as input a fit classifier, features, and a target labeling and makes predictions using the F<sub>1</sub> score.\n",
    "- `train_predict` - takes as input a classifier, and the training and testing data, and performs `train_clasifier` and `predict_labels`.\n",
    " - This function will report the F<sub>1</sub> score for both the training and testing data separately."
   ]
  },
  {
   "cell_type": "code",
   "execution_count": 9,
   "metadata": {
    "collapsed": false
   },
   "outputs": [],
   "source": [
    "def train_classifier(clf, X_train, y_train):\n",
    "    ''' Fits a classifier to the training data. '''\n",
    "    \n",
    "    # Start the clock, train the classifier, then stop the clock\n",
    "    start = time()\n",
    "    clf.fit(X_train, y_train)\n",
    "    end = time()\n",
    "    \n",
    "    # Print the results\n",
    "    print \"Trained model in {:.4f} seconds\".format(end - start)\n",
    "\n",
    "    \n",
    "def predict_labels(clf, features, target):\n",
    "    ''' Makes predictions using a fit classifier based on F1 score. '''\n",
    "    \n",
    "    # Start the clock, make predictions, then stop the clock\n",
    "    start = time()\n",
    "    y_pred = clf.predict(features)\n",
    "    end = time()\n",
    "    \n",
    "    # Print and return results\n",
    "    print \"Made predictions in {:.4f} seconds.\".format(end - start)\n",
    "    return f1_score(target.values, y_pred, pos_label='yes')\n",
    "\n",
    "\n",
    "def train_predict(clf, X_train, y_train, X_test, y_test):\n",
    "    ''' Train and predict using a classifer based on F1 score. '''\n",
    "    \n",
    "    # Indicate the classifier and the training set size\n",
    "    print \"Training a {} using a training set size of {}. . .\".format(clf.__class__.__name__, len(X_train))\n",
    "    \n",
    "    # Train the classifier\n",
    "    train_classifier(clf, X_train, y_train)\n",
    "    \n",
    "    # Print the results of prediction for both training and testing\n",
    "    print \"F1 score for training set: {:.4f}.\".format(predict_labels(clf, X_train, y_train))\n",
    "    print \"F1 score for test set: {:.4f}.\".format(predict_labels(clf, X_test, y_test))"
   ]
  },
  {
   "cell_type": "markdown",
   "metadata": {},
   "source": [
    "### Implementation: Model Performance Metrics\n",
    "With the predefined functions above, you will now import the three supervised learning models of your choice and run the `train_predict` function for each one. Remember that you will need to train and predict on each classifier for three different training set sizes: 100, 200, and 300. Hence, you should expect to have 9 different outputs below — 3 for each model using the varying training set sizes. In the following code cell, you will need to implement the following:\n",
    "- Import the three supervised learning models you've discussed in the previous section.\n",
    "- Initialize the three models and store them in `clf_A`, `clf_B`, and `clf_C`.\n",
    " - Use a `random_state` for each model you use, if provided.\n",
    " - **Note:** Use the default settings for each model — you will tune one specific model in a later section.\n",
    "- Create the different training set sizes to be used to train each model.\n",
    " - *Do not reshuffle and resplit the data! The new training points should be drawn from `X_train` and `y_train`.*\n",
    "- Fit each model with each training set size and make predictions on the test set (9 in total).  \n",
    "**Note:** Three tables are provided after the following code cell which can be used to store your results."
   ]
  },
  {
   "cell_type": "code",
   "execution_count": 10,
   "metadata": {
    "collapsed": false
   },
   "outputs": [
    {
     "name": "stdout",
     "output_type": "stream",
     "text": [
      "---- SVC ----\n",
      "Training a SVC using a training set size of 100. . .\n",
      "Trained model in 0.0100 seconds\n",
      "Made predictions in 0.0029 seconds.\n",
      "F1 score for training set: 0.8392.\n",
      "Made predictions in 0.0026 seconds.\n",
      "F1 score for test set: 0.7862.\n",
      "Training a SVC using a training set size of 200. . .\n",
      "Trained model in 0.0090 seconds\n",
      "Made predictions in 0.0074 seconds.\n",
      "F1 score for training set: 0.8630.\n",
      "Made predictions in 0.0034 seconds.\n",
      "F1 score for test set: 0.7973.\n",
      "Training a SVC using a training set size of 300. . .\n",
      "Trained model in 0.0143 seconds\n",
      "Made predictions in 0.0081 seconds.\n",
      "F1 score for training set: 0.8621.\n",
      "Made predictions in 0.0026 seconds.\n",
      "F1 score for test set: 0.8054.\n",
      "\n",
      "---- Random Forest ----\n",
      "Training a RandomForestClassifier using a training set size of 100. . .\n",
      "Trained model in 0.2023 seconds\n",
      "Made predictions in 0.0022 seconds.\n",
      "F1 score for training set: 0.9573.\n",
      "Made predictions in 0.0017 seconds.\n",
      "F1 score for test set: 0.6609.\n",
      "Training a RandomForestClassifier using a training set size of 200. . .\n",
      "Trained model in 0.0581 seconds\n",
      "Made predictions in 0.0019 seconds.\n",
      "F1 score for training set: 0.9961.\n",
      "Made predictions in 0.0018 seconds.\n",
      "F1 score for test set: 0.7967.\n",
      "Training a RandomForestClassifier using a training set size of 300. . .\n",
      "Trained model in 0.0430 seconds\n",
      "Made predictions in 0.0022 seconds.\n",
      "F1 score for training set: 0.9975.\n",
      "Made predictions in 0.0022 seconds.\n",
      "F1 score for test set: 0.7231.\n",
      "\n",
      "---- Logistic Regresion ----\n",
      "Training a LogisticRegression using a training set size of 100. . .\n",
      "Trained model in 0.0020 seconds\n",
      "Made predictions in 0.0003 seconds.\n",
      "F1 score for training set: 0.8661.\n",
      "Made predictions in 0.0002 seconds.\n",
      "F1 score for test set: 0.7846.\n",
      "Training a LogisticRegression using a training set size of 200. . .\n",
      "Trained model in 0.0029 seconds\n",
      "Made predictions in 0.0003 seconds.\n",
      "F1 score for training set: 0.8291.\n",
      "Made predictions in 0.0002 seconds.\n",
      "F1 score for test set: 0.7463.\n",
      "Training a LogisticRegression using a training set size of 300. . .\n",
      "Trained model in 0.0053 seconds\n",
      "Made predictions in 0.0005 seconds.\n",
      "F1 score for training set: 0.8406.\n",
      "Made predictions in 0.0003 seconds.\n",
      "F1 score for test set: 0.7519.\n"
     ]
    }
   ],
   "source": [
    "# TODO: Import the three supervised learning models from sklearn\n",
    "from sklearn.svm import SVC\n",
    "from sklearn.ensemble import RandomForestClassifier\n",
    "from sklearn.linear_model import LogisticRegression\n",
    "\n",
    "# TODO: Initialize the three models\n",
    "clf_A = SVC(random_state=111)\n",
    "clf_B = RandomForestClassifier(random_state=222)\n",
    "clf_C = LogisticRegression(random_state=333)\n",
    "\n",
    "# TODO: Execute the 'train_predict' function for each classifier and each training set size\n",
    "def train_predict_sizes(clf, train_sizes):\n",
    "    for train_size in train_sizes: \n",
    "        train_predict(clf, X_train[:train_size], y_train[:train_size], X_test, y_test)\n",
    "\n",
    "print \"---- SVC ----\"\n",
    "train_predict_sizes(clf_A, [100, 200, 300])\n",
    "\n",
    "print \"\\n---- Random Forest ----\"\n",
    "train_predict_sizes(clf_B, [100, 200, 300])\n",
    "\n",
    "print \"\\n---- Logistic Regresion ----\"\n",
    "train_predict_sizes(clf_C, [100, 200, 300])\n"
   ]
  },
  {
   "cell_type": "markdown",
   "metadata": {},
   "source": [
    "### Tabular Results\n",
    "Edit the cell below to see how a table can be designed in [Markdown](https://github.com/adam-p/markdown-here/wiki/Markdown-Cheatsheet#tables). You can record your results from above in the tables provided."
   ]
  },
  {
   "cell_type": "markdown",
   "metadata": {},
   "source": [
    "** Classifer 1 - SVC**  \n",
    "\n",
    "| Training Set Size | Prediction Time (train) | Prediction Time (test) | F1 Score (train) | F1 Score (test) |\n",
    "| :---------------: | :---------------------: | :--------------------: | :--------------: | :-------------: |\n",
    "| 100               |        0.0029           |        0.0026          |      0.8392      |    0.7862       |\n",
    "| 200               |        0.0074           |        0.0034          |      0.8630      |    0.7973       |\n",
    "| 300               |        0.0081           |        0.0026          |      0.8621      |    0.8054       |\n",
    "\n",
    "** Classifer 2 - Random Forest**  \n",
    "\n",
    "| Training Set Size | Prediction Time (train) | Prediction Time (test) | F1 Score (train) | F1 Score (test) |\n",
    "| :---------------: | :---------------------: | :--------------------: | :--------------: | :-------------: |\n",
    "| 100               |       0.0022            |         0.0017         |      0.9573      |     0.6609      |\n",
    "| 200               |       0.0019            |         0.0018         |      0.9961      |     0.7967      |\n",
    "| 300               |       0.0022            |         0.0022         |      0.9975      |     0.7231      |\n",
    "\n",
    "** Classifer 3 - Logistic Regression**  \n",
    "\n",
    "| Training Set Size | Prediction Time (train) | Prediction Time (test) | F1 Score (train) | F1 Score (test) |\n",
    "| :---------------: | :---------------------: | :--------------------: | :--------------: | :-------------: |\n",
    "| 100               |       0.0003            |         0.0002         |      0.8661      |     0.7846      |\n",
    "| 200               |       0.0003            |         0.0002         |      0.8291      |     0.7463      |\n",
    "| 300               |       0.0005            |         0.0003         |      0.8406      |     0.7519      |\n"
   ]
  },
  {
   "cell_type": "markdown",
   "metadata": {},
   "source": [
    "## Choosing the Best Model\n",
    "In this final section, you will choose from the three supervised learning models the *best* model to use on the student data. You will then perform a grid search optimization for the model over the entire training set (`X_train` and `y_train`) by tuning at least one parameter to improve upon the untuned model's F<sub>1</sub> score. "
   ]
  },
  {
   "cell_type": "markdown",
   "metadata": {},
   "source": [
    "### Question 3 - Chosing the Best Model\n",
    "*Based on the experiments you performed earlier, in one to two paragraphs, explain to the board of supervisors what single model you chose as the best model. Which model is generally the most appropriate based on the available data, limited resources, cost, and performance?*"
   ]
  },
  {
   "cell_type": "markdown",
   "metadata": {},
   "source": [
    "**Answer: **  \n",
    "\n",
    "If we're only evaluating based on performance, I believe the SVM model will end up getting a better score than the other two approaches after fine tuning. However, given the constraints of limited resources, I think we should favor simpler approaches. The SVM approach take significant computation to train and predict as compared to the other 2 models. \n",
    "\n",
    "Judging from the how the random forest is over-fitting on the training data while still having a relatively low test score, I feel that that I'll probably need to tune the model by increasing the number of trees involved via *n_estimators* and consequently the complexity of the random forest which means the time-complexity will surely increase: **O(v\\*nlog(n))** The viability of the model, given our limited computation resources, is lowered because of this. \n",
    "\n",
    "Logistic regression is the simplest model to visualize for the board of directors (the other two are essentially blackboxes. It is also extremely efficient and consumes very little computational power and memory to train and predict compared to the other two more complex algorithms. The scores on the training set seem reasonably close to the other two algorithms too. Another consideration is that, as the training set is expected to grow steadily over a decade, overfitting becomes less of a issue for logistic regression eventually, thus the results will only get more accurate. On top of that, the school can also back-track and find the estimated regression coefficients of a log scale and interpret the effects of each feature in future to help with developing the intervention.\n",
    "\n",
    "**Therefore, I would argue that the *most appropriate* model and a reasonable compromise between accuracy and resource-usage in this case would be the Logistic Regression.**"
   ]
  },
  {
   "cell_type": "markdown",
   "metadata": {},
   "source": [
    "### Question 4 - Model in Layman's Terms\n",
    "*In one to two paragraphs, explain to the board of directors in layman's terms how the final model chosen is supposed to work. For example if you've chosen to use a decision tree or a support vector machine, how does the model go about making a prediction?*"
   ]
  },
  {
   "cell_type": "markdown",
   "metadata": {},
   "source": [
    "**Answer: ** \n",
    "\n",
    "1) Logistic regression outputs the prediction in terms of probability. More specifically in our case, if you have a value of >0.5, we interpret it as a good chance that the student will pass.\n",
    "\n",
    "2) During the initlal training, a function is minimized to assign a weight to each variable in our data such as **failures** (number of past class failures). \n",
    "\n",
    "3) When we are making a prediction, we take all the variable values and multiply them by their corresponding weights and sum them up and then modified to obtain a probability of whether a student will pass or not."
   ]
  },
  {
   "cell_type": "markdown",
   "metadata": {},
   "source": [
    "### Implementation: Model Tuning\n",
    "Fine tune the chosen model. Use grid search (`GridSearchCV`) with at least one important parameter tuned with at least 3 different values. You will need to use the entire training set for this. In the code cell below, you will need to implement the following:\n",
    "- Import [`sklearn.grid_search.gridSearchCV`](http://scikit-learn.org/stable/modules/generated/sklearn.grid_search.GridSearchCV.html) and [`sklearn.metrics.make_scorer`](http://scikit-learn.org/stable/modules/generated/sklearn.metrics.make_scorer.html).\n",
    "- Create a dictionary of parameters you wish to tune for the chosen model.\n",
    " - Example: `parameters = {'parameter' : [list of values]}`.\n",
    "- Initialize the classifier you've chosen and store it in `clf`.\n",
    "- Create the F<sub>1</sub> scoring function using `make_scorer` and store it in `f1_scorer`.\n",
    " - Set the `pos_label` parameter to the correct value!\n",
    "- Perform grid search on the classifier `clf` using `f1_scorer` as the scoring method, and store it in `grid_obj`.\n",
    "- Fit the grid search object to the training data (`X_train`, `y_train`), and store it in `grid_obj`."
   ]
  },
  {
   "cell_type": "code",
   "execution_count": 16,
   "metadata": {
    "collapsed": false,
    "scrolled": true
   },
   "outputs": [
    {
     "name": "stdout",
     "output_type": "stream",
     "text": [
      "Best Params: {'C': 0.05}\n",
      "Made predictions in 0.0006 seconds.\n",
      "Tuned model has a training F1 score of 0.8348.\n",
      "Made predictions in 0.0003 seconds.\n",
      "Tuned model has a testing F1 score of 0.8138.\n"
     ]
    }
   ],
   "source": [
    "from sklearn.metrics import f1_score\n",
    "from sklearn.metrics import make_scorer\n",
    "from sklearn.grid_search import GridSearchCV\n",
    "from sklearn.cross_validation import StratifiedShuffleSplit\n",
    "from sklearn.linear_model import LogisticRegression\n",
    "\n",
    "parameters = {'C': [0.001, 0.005, 0.0075, 0.01, 0.05, 0.1, 1, 10, 100] }\n",
    "\n",
    "clf = LogisticRegression()\n",
    "\n",
    "f1_scorer = make_scorer(f1_score, pos_label=\"yes\")\n",
    "\n",
    "# Stratified because of the imbalanced data\n",
    "sss = StratifiedShuffleSplit(y_train, n_iter=20, test_size=0.1, random_state=111)\n",
    "grid_obj = GridSearchCV(clf, param_grid=parameters, scoring=f1_scorer, cv=sss)\n",
    "grid_obj.fit(X_train, y_train)\n",
    "print \"Best Params: \" + str(grid_obj.best_params_)\n",
    "\n",
    "# Get the estimator\n",
    "clf = grid_obj.best_estimator_\n",
    "\n",
    "# Report the final F1 score for training and testing after parameter tuning\n",
    "print \"Tuned model has a training F1 score of {:.4f}.\".format(predict_labels(clf, X_train, y_train))\n",
    "print \"Tuned model has a testing F1 score of {:.4f}.\".format(predict_labels(clf, X_test, y_test))\n"
   ]
  },
  {
   "cell_type": "markdown",
   "metadata": {},
   "source": [
    "### Question 5 - Final F<sub>1</sub> Score\n",
    "*What is the final model's F<sub>1</sub> score for training and testing? How does that score compare to the untuned model?*"
   ]
  },
  {
   "cell_type": "markdown",
   "metadata": {},
   "source": [
    "**Answer: ** The final model's F1 score is 0.8348 for training and 0.8138 for testing. We can see a slight drop in the score for the training set, but significantly better test score compared to the untuned model. \n",
    "\n",
    "This is expected behaviour as the final model has a higher regularization strength (lower C value); this reduces over-fitting, which is a common problem for a low bias/high variance model such as logistic regression which in turn improves the generalization capability of the model."
   ]
  },
  {
   "cell_type": "markdown",
   "metadata": {},
   "source": [
    "> **Note**: Once you have completed all of the code implementations and successfully answered each question above, you may finalize your work by exporting the iPython Notebook as an HTML document. You can do this by using the menu above and navigating to  \n",
    "**File -> Download as -> HTML (.html)**. Include the finished document along with this notebook as your submission."
   ]
  }
 ],
 "metadata": {
  "kernelspec": {
   "display_name": "Python 2",
   "language": "python",
   "name": "python2"
  },
  "language_info": {
   "codemirror_mode": {
    "name": "ipython",
    "version": 2
   },
   "file_extension": ".py",
   "mimetype": "text/x-python",
   "name": "python",
   "nbconvert_exporter": "python",
   "pygments_lexer": "ipython2",
   "version": "2.7.11"
  },
  "widgets": {
   "state": {},
   "version": "1.1.1"
  }
 },
 "nbformat": 4,
 "nbformat_minor": 0
}
